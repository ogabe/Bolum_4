{
 "cells": [
  {
   "cell_type": "markdown",
   "metadata": {},
   "source": [
    "Sınav sonuçları normal dağılımlı mıdır? Değilse normal dağılıma sahip hale getirmek için ne yapabiliriz?\n",
    "\n",
    "Üç sınav sonucunu tek bir değişkende, hedef değişkeni olarak tutmak istiyoruz. Bunun için üç sınavın ortalamasını içeren yeni bir değişken tanımlayın. Bu yeni değişkenin ortalamasının normal dağılımlı olup olmadığını test edin. Eğer normal dağılıma sahip değilse dönüşüm yaparak normal dağılımlı hale getirmeye çalışın ve dönüşümün sonucunu test edin.\n",
    "\n",
    "Bir önceki soruda oluşturduğumuz hedef değişkeni ile hangi değişkenler ilişkili görünüyor? Eğer amacımız sınav başarısını belirleyen etkenleri açıklamak olsaydı hangi değişkenleri veri kümemizde tutmamız gerekirdi?"
   ]
  },
  {
   "cell_type": "code",
   "execution_count": 11,
   "metadata": {},
   "outputs": [],
   "source": [
    "import matplotlib.pyplot as plt\n",
    "import seaborn as sns\n",
    "import numpy as np\n",
    "import pandas as pd\n",
    "import scipy.stats as stats\n",
    "from scipy.stats.mstats import winsorize\n",
    "from sqlalchemy import create_engine\n",
    "import warnings\n",
    "\n",
    "warnings.filterwarnings('ignore')\n",
    "sns.set(style=\"whitegrid\")\n",
    "baslik_font = {'family': 'arial', 'color': 'darkred','weight': 'bold','size': 13 }\n",
    "eksen_font  = {'family': 'arial', 'color': 'darkblue','weight': 'bold','size': 10 }"
   ]
  },
  {
   "cell_type": "code",
   "execution_count": 12,
   "metadata": {},
   "outputs": [
    {
     "data": {
      "text/html": [
       "<div>\n",
       "<style scoped>\n",
       "    .dataframe tbody tr th:only-of-type {\n",
       "        vertical-align: middle;\n",
       "    }\n",
       "\n",
       "    .dataframe tbody tr th {\n",
       "        vertical-align: top;\n",
       "    }\n",
       "\n",
       "    .dataframe thead th {\n",
       "        text-align: right;\n",
       "    }\n",
       "</style>\n",
       "<table border=\"1\" class=\"dataframe\">\n",
       "  <thead>\n",
       "    <tr style=\"text-align: right;\">\n",
       "      <th></th>\n",
       "      <th>cinsiyet</th>\n",
       "      <th>koken</th>\n",
       "      <th>aile_egt_seviyesi</th>\n",
       "      <th>ogle_yemegi</th>\n",
       "      <th>hazirlik_kursu</th>\n",
       "      <th>matematik_notu</th>\n",
       "      <th>okuma_notu</th>\n",
       "      <th>yazma_notu</th>\n",
       "    </tr>\n",
       "  </thead>\n",
       "  <tbody>\n",
       "    <tr>\n",
       "      <th>0</th>\n",
       "      <td>female</td>\n",
       "      <td>group B</td>\n",
       "      <td>bachelor's degree</td>\n",
       "      <td>standard</td>\n",
       "      <td>none</td>\n",
       "      <td>72</td>\n",
       "      <td>72</td>\n",
       "      <td>74</td>\n",
       "    </tr>\n",
       "    <tr>\n",
       "      <th>1</th>\n",
       "      <td>female</td>\n",
       "      <td>group C</td>\n",
       "      <td>some college</td>\n",
       "      <td>standard</td>\n",
       "      <td>completed</td>\n",
       "      <td>69</td>\n",
       "      <td>90</td>\n",
       "      <td>88</td>\n",
       "    </tr>\n",
       "    <tr>\n",
       "      <th>2</th>\n",
       "      <td>female</td>\n",
       "      <td>group B</td>\n",
       "      <td>master's degree</td>\n",
       "      <td>standard</td>\n",
       "      <td>none</td>\n",
       "      <td>90</td>\n",
       "      <td>95</td>\n",
       "      <td>93</td>\n",
       "    </tr>\n",
       "    <tr>\n",
       "      <th>3</th>\n",
       "      <td>male</td>\n",
       "      <td>group A</td>\n",
       "      <td>associate's degree</td>\n",
       "      <td>free/reduced</td>\n",
       "      <td>none</td>\n",
       "      <td>47</td>\n",
       "      <td>57</td>\n",
       "      <td>44</td>\n",
       "    </tr>\n",
       "    <tr>\n",
       "      <th>4</th>\n",
       "      <td>male</td>\n",
       "      <td>group C</td>\n",
       "      <td>some college</td>\n",
       "      <td>standard</td>\n",
       "      <td>none</td>\n",
       "      <td>76</td>\n",
       "      <td>78</td>\n",
       "      <td>75</td>\n",
       "    </tr>\n",
       "  </tbody>\n",
       "</table>\n",
       "</div>"
      ],
      "text/plain": [
       "  cinsiyet    koken   aile_egt_seviyesi   ogle_yemegi hazirlik_kursu  \\\n",
       "0   female  group B   bachelor's degree      standard           none   \n",
       "1   female  group C        some college      standard      completed   \n",
       "2   female  group B     master's degree      standard           none   \n",
       "3     male  group A  associate's degree  free/reduced           none   \n",
       "4     male  group C        some college      standard           none   \n",
       "\n",
       "   matematik_notu  okuma_notu  yazma_notu  \n",
       "0              72          72          74  \n",
       "1              69          90          88  \n",
       "2              90          95          93  \n",
       "3              47          57          44  \n",
       "4              76          78          75  "
      ]
     },
     "execution_count": 12,
     "metadata": {},
     "output_type": "execute_result"
    }
   ],
   "source": [
    "df = pd.read_csv('StudentsPerformance.csv')\n",
    "df.columns = ['cinsiyet', 'koken', 'aile_egt_seviyesi', 'ogle_yemegi', \n",
    "                              'hazirlik_kursu', 'matematik_notu', 'okuma_notu', 'yazma_notu']\n",
    "df.head()"
   ]
  },
  {
   "cell_type": "code",
   "execution_count": 13,
   "metadata": {},
   "outputs": [
    {
     "data": {
      "image/png": "[encoded data removed]",
      "text/plain": [
       "<Figure size 720x360 with 3 Axes>"
      ]
     },
     "metadata": {},
     "output_type": "display_data"
    }
   ],
   "source": [
    "#Sınav sonuçları normal dağılımlı mıdır? Değilse normal dağılıma sahip hale getirmek için ne yapabiliriz?\n",
    "\n",
    "plt.figure(figsize = (10,5))\n",
    "plt.subplot(1,3,1)\n",
    "plt.hist(df['matematik_notu'])\n",
    "plt.title('Matematik', fontdict = baslik_font)\n",
    "plt.subplot(1,3,2)\n",
    "plt.hist(df['okuma_notu'])\n",
    "plt.title('Okuma', fontdict = baslik_font)\n",
    "plt.subplot(1,3,3)\n",
    "plt.hist(df['yazma_notu'])\n",
    "plt.title('Yazma', fontdict = baslik_font)\n",
    "plt.show()"
   ]
  },
  {
   "cell_type": "markdown",
   "metadata": {},
   "source": [
    "Normal dağılıma yakın görünüyor. Testlerimizi uygulayarak kontrol edelim."
   ]
  },
  {
   "cell_type": "code",
   "execution_count": 14,
   "metadata": {},
   "outputs": [
    {
     "data": {
      "text/html": [
       "<div>\n",
       "<style scoped>\n",
       "    .dataframe tbody tr th:only-of-type {\n",
       "        vertical-align: middle;\n",
       "    }\n",
       "\n",
       "    .dataframe tbody tr th {\n",
       "        vertical-align: top;\n",
       "    }\n",
       "\n",
       "    .dataframe thead th {\n",
       "        text-align: right;\n",
       "    }\n",
       "</style>\n",
       "<table border=\"1\" class=\"dataframe\">\n",
       "  <thead>\n",
       "    <tr style=\"text-align: right;\">\n",
       "      <th></th>\n",
       "      <th>notlar</th>\n",
       "      <th>JB_stats</th>\n",
       "      <th>JB_pvalue</th>\n",
       "      <th>normal_stats</th>\n",
       "      <th>normal_pvalue</th>\n",
       "    </tr>\n",
       "  </thead>\n",
       "  <tbody>\n",
       "    <tr>\n",
       "      <th>0</th>\n",
       "      <td>matematik_notu</td>\n",
       "      <td>15.91226</td>\n",
       "      <td>0.00035</td>\n",
       "      <td>15.40896</td>\n",
       "      <td>0.00045</td>\n",
       "    </tr>\n",
       "    <tr>\n",
       "      <th>1</th>\n",
       "      <td>okuma_notu</td>\n",
       "      <td>11.38330</td>\n",
       "      <td>0.00337</td>\n",
       "      <td>11.11741</td>\n",
       "      <td>0.00385</td>\n",
       "    </tr>\n",
       "    <tr>\n",
       "      <th>2</th>\n",
       "      <td>yazma_notu</td>\n",
       "      <td>13.98509</td>\n",
       "      <td>0.00092</td>\n",
       "      <td>13.60645</td>\n",
       "      <td>0.00111</td>\n",
       "    </tr>\n",
       "  </tbody>\n",
       "</table>\n",
       "</div>"
      ],
      "text/plain": [
       "           notlar  JB_stats  JB_pvalue  normal_stats  normal_pvalue\n",
       "0  matematik_notu  15.91226    0.00035      15.40896        0.00045\n",
       "1      okuma_notu  11.38330    0.00337      11.11741        0.00385\n",
       "2      yazma_notu  13.98509    0.00092      13.60645        0.00111"
      ]
     },
     "execution_count": 14,
     "metadata": {},
     "output_type": "execute_result"
    }
   ],
   "source": [
    "from scipy.stats import jarque_bera\n",
    "from scipy.stats import normaltest\n",
    "\n",
    "\n",
    "pd.options.display.float_format = '{:.5f}'.format\n",
    "\n",
    "notlar = ['matematik_notu', 'okuma_notu', 'yazma_notu']\n",
    "dagilim_testi = pd.DataFrame(columns = ['notlar', 'JB_stats','JB_pvalue', 'normal_stats', 'normal_pvalue'])\n",
    "\n",
    "for ders in notlar:\n",
    "    JB_stats = jarque_bera(df[ders])\n",
    "    normal_stats = normaltest(df[ders])\n",
    "    dagilim_testi = dagilim_testi.append({'notlar': ders, 'JB_stats': JB_stats[0], 'JB_pvalue': JB_stats[1],\n",
    "                                         'normal_stats': normal_stats[0], 'normal_pvalue': normal_stats[1]}, \n",
    "                                        ignore_index = True)\n",
    "dagilim_testi"
   ]
  },
  {
   "cell_type": "markdown",
   "metadata": {},
   "source": [
    "pvalue değeri dağılımın histogramda görüldüğü kadar normal olmadığını gösteriyor. Notları normalize edelim."
   ]
  },
  {
   "cell_type": "code",
   "execution_count": 16,
   "metadata": {},
   "outputs": [
    {
     "name": "stdout",
     "output_type": "stream",
     "text": [
      "Minimum Değer: \n",
      " -------\n",
      "matematik_notu      0.00000\n",
      "normalized_mat      0.00000\n",
      "okuma_notu         17.00000\n",
      "normalized_okuma    0.00760\n",
      "yazma_notu         10.00000\n",
      "normalized_yazma    0.00454\n",
      "dtype: float64\n",
      "Maksimum Değer: \n",
      " -------\n",
      "matematik_notu     100.00000\n",
      "normalized_mat       0.04664\n",
      "okuma_notu         100.00000\n",
      "normalized_okuma     0.04473\n",
      "yazma_notu         100.00000\n",
      "normalized_yazma     0.04535\n",
      "dtype: float64\n"
     ]
    }
   ],
   "source": [
    "from sklearn.preprocessing import normalize\n",
    "\n",
    "df['normalized_mat'] = normalize(np.array(df['matematik_notu']).reshape(1,-1)).reshape(-1,1)\n",
    "df['normalized_okuma'] = normalize(np.array(df['okuma_notu']).reshape(1,-1)).reshape(-1,1)\n",
    "df['normalized_yazma'] = normalize(np.array(df['yazma_notu']).reshape(1,-1)).reshape(-1,1)\n",
    "\n",
    "ozellikler = ['matematik_notu', 'normalized_mat', 'okuma_notu', 'normalized_okuma',\n",
    "              'yazma_notu', 'normalized_yazma']\n",
    "\n",
    "\n",
    "print('Minimum Değer: \\n -------')\n",
    "print(df[ozellikler].min())\n",
    "print('Maksimum Değer: \\n -------')\n",
    "print(df[ozellikler].max())"
   ]
  },
  {
   "cell_type": "code",
   "execution_count": 18,
   "metadata": {},
   "outputs": [
    {
     "data": {
      "image/png": "[encoded data removed]",
      "text/plain": [
       "<Figure size 1296x360 with 3 Axes>"
      ]
     },
     "metadata": {},
     "output_type": "display_data"
    }
   ],
   "source": [
    "#Normalleşmiş değerleri grafik üzerinde görelim\n",
    "plt.figure(figsize=(18,5))\n",
    "\n",
    "for i in range(3):\n",
    "    plt.subplot(1,3,i+1)\n",
    "    plt.scatter(df[ozellikler[2*i]], df[ozellikler[2*i+1]])\n",
    "    plt.title(\"Orjinal ve Normalize değerler \\n ({})\".format(ozellikler[2*i]), fontdict=baslik_font)\n",
    "    plt.xlabel(\"Winsorize Değer\", fontdict=eksen_font)\n",
    "    plt.ylabel(\"Normalleştirilmiş winsorize değer\", fontdict=eksen_font)\n",
    "\n",
    "plt.show()"
   ]
  },
  {
   "cell_type": "markdown",
   "metadata": {},
   "source": [
    "Üç sınav sonucunu tek bir değişkende, hedef değişkeni olarak tutmak istiyoruz. Bunun için üç sınavın ortalamasını içeren yeni bir değişken tanımlayın. Bu yeni değişkenin ortalamasının normal dağılımlı olup olmadığını test edin. Eğer normal dağılıma sahip değilse dönüşüm yaparak normal dağılımlı hale getirmeye çalışın ve dönüşümün sonucunu test edin."
   ]
  },
  {
   "cell_type": "code",
   "execution_count": 19,
   "metadata": {},
   "outputs": [
    {
     "data": {
      "text/plain": [
       "0   72.66667\n",
       "1   82.33333\n",
       "2   92.66667\n",
       "3   49.33333\n",
       "4   76.33333\n",
       "Name: not_ortalamasi, dtype: float64"
      ]
     },
     "execution_count": 19,
     "metadata": {},
     "output_type": "execute_result"
    }
   ],
   "source": [
    "df['not_ortalamasi']=(df['matematik_notu'] + df['okuma_notu'] + df['yazma_notu'])/3\n",
    "df['not_ortalamasi'].head()"
   ]
  },
  {
   "cell_type": "code",
   "execution_count": 20,
   "metadata": {},
   "outputs": [
    {
     "data": {
      "image/png": "[encoded data removed]",
      "text/plain": [
       "<Figure size 432x288 with 1 Axes>"
      ]
     },
     "metadata": {},
     "output_type": "display_data"
    }
   ],
   "source": [
    "plt.hist(df['not_ortalamasi'])\n",
    "plt.show()"
   ]
  },
  {
   "cell_type": "code",
   "execution_count": 21,
   "metadata": {},
   "outputs": [
    {
     "data": {
      "text/plain": [
       "NormaltestResult(statistic=15.186721327231322, pvalue=0.0005037851534494478)"
      ]
     },
     "execution_count": 21,
     "metadata": {},
     "output_type": "execute_result"
    }
   ],
   "source": [
    "normaltest(df['not_ortalamasi'])"
   ]
  },
  {
   "cell_type": "code",
   "execution_count": 28,
   "metadata": {},
   "outputs": [
    {
     "name": "stdout",
     "output_type": "stream",
     "text": [
      "Minimum Değer\n",
      "-----------------\n",
      "not_ortalamasi        9.00000\n",
      "norm_not_ortalamasi   0.00411\n",
      "dtype: float64\n",
      "\n",
      "Maksimum Değer\n",
      "-----------------\n",
      "not_ortalamasi        100.00000\n",
      "norm_not_ortalamasi     0.04566\n",
      "dtype: float64\n"
     ]
    }
   ],
   "source": [
    "#Normalize edelim\n",
    "df[\"norm_not_ortalamasi\"] = normalize(np.array(df[\"not_ortalamasi\"]).reshape(1,-1)).reshape(-1,1)\n",
    "normal_ozellikler=[\"not_ortalamasi\",\"norm_not_ortalamasi\"]\n",
    "\n",
    "\n",
    "print('Minimum Değer\\n-----------------',)\n",
    "print(df[normal_ozellikler].min())\n",
    "print('\\nMaksimum Değer\\n-----------------',)\n",
    "print(df[normal_ozellikler].max())"
   ]
  },
  {
   "cell_type": "markdown",
   "metadata": {},
   "source": [
    "Bir önceki soruda oluşturduğumuz hedef değişkeni ile hangi değişkenler ilişkili görünüyor? Eğer amacımız sınav başarısını belirleyen etkenleri açıklamak olsaydı hangi değişkenleri veri kümemizde tutmamız gerekirdi?"
   ]
  },
  {
   "cell_type": "code",
   "execution_count": 37,
   "metadata": {},
   "outputs": [
    {
     "data": {
      "text/html": [
       "<div>\n",
       "<style scoped>\n",
       "    .dataframe tbody tr th:only-of-type {\n",
       "        vertical-align: middle;\n",
       "    }\n",
       "\n",
       "    .dataframe tbody tr th {\n",
       "        vertical-align: top;\n",
       "    }\n",
       "\n",
       "    .dataframe thead th {\n",
       "        text-align: right;\n",
       "    }\n",
       "</style>\n",
       "<table border=\"1\" class=\"dataframe\">\n",
       "  <thead>\n",
       "    <tr style=\"text-align: right;\">\n",
       "      <th></th>\n",
       "      <th>matematik_notu</th>\n",
       "      <th>okuma_notu</th>\n",
       "      <th>yazma_notu</th>\n",
       "      <th>normalized_mat</th>\n",
       "      <th>normalized_okuma</th>\n",
       "      <th>normalized_yazma</th>\n",
       "      <th>not_ortalamasi</th>\n",
       "      <th>norm_not_ortalamasi</th>\n",
       "    </tr>\n",
       "  </thead>\n",
       "  <tbody>\n",
       "    <tr>\n",
       "      <th>matematik_notu</th>\n",
       "      <td>1.00000</td>\n",
       "      <td>0.81758</td>\n",
       "      <td>0.80264</td>\n",
       "      <td>1.00000</td>\n",
       "      <td>0.81758</td>\n",
       "      <td>0.80264</td>\n",
       "      <td>0.91875</td>\n",
       "      <td>0.91875</td>\n",
       "    </tr>\n",
       "    <tr>\n",
       "      <th>okuma_notu</th>\n",
       "      <td>0.81758</td>\n",
       "      <td>1.00000</td>\n",
       "      <td>0.95460</td>\n",
       "      <td>0.81758</td>\n",
       "      <td>1.00000</td>\n",
       "      <td>0.95460</td>\n",
       "      <td>0.97033</td>\n",
       "      <td>0.97033</td>\n",
       "    </tr>\n",
       "    <tr>\n",
       "      <th>yazma_notu</th>\n",
       "      <td>0.80264</td>\n",
       "      <td>0.95460</td>\n",
       "      <td>1.00000</td>\n",
       "      <td>0.80264</td>\n",
       "      <td>0.95460</td>\n",
       "      <td>1.00000</td>\n",
       "      <td>0.96567</td>\n",
       "      <td>0.96567</td>\n",
       "    </tr>\n",
       "    <tr>\n",
       "      <th>normalized_mat</th>\n",
       "      <td>1.00000</td>\n",
       "      <td>0.81758</td>\n",
       "      <td>0.80264</td>\n",
       "      <td>1.00000</td>\n",
       "      <td>0.81758</td>\n",
       "      <td>0.80264</td>\n",
       "      <td>0.91875</td>\n",
       "      <td>0.91875</td>\n",
       "    </tr>\n",
       "    <tr>\n",
       "      <th>normalized_okuma</th>\n",
       "      <td>0.81758</td>\n",
       "      <td>1.00000</td>\n",
       "      <td>0.95460</td>\n",
       "      <td>0.81758</td>\n",
       "      <td>1.00000</td>\n",
       "      <td>0.95460</td>\n",
       "      <td>0.97033</td>\n",
       "      <td>0.97033</td>\n",
       "    </tr>\n",
       "    <tr>\n",
       "      <th>normalized_yazma</th>\n",
       "      <td>0.80264</td>\n",
       "      <td>0.95460</td>\n",
       "      <td>1.00000</td>\n",
       "      <td>0.80264</td>\n",
       "      <td>0.95460</td>\n",
       "      <td>1.00000</td>\n",
       "      <td>0.96567</td>\n",
       "      <td>0.96567</td>\n",
       "    </tr>\n",
       "    <tr>\n",
       "      <th>not_ortalamasi</th>\n",
       "      <td>0.91875</td>\n",
       "      <td>0.97033</td>\n",
       "      <td>0.96567</td>\n",
       "      <td>0.91875</td>\n",
       "      <td>0.97033</td>\n",
       "      <td>0.96567</td>\n",
       "      <td>1.00000</td>\n",
       "      <td>1.00000</td>\n",
       "    </tr>\n",
       "    <tr>\n",
       "      <th>norm_not_ortalamasi</th>\n",
       "      <td>0.91875</td>\n",
       "      <td>0.97033</td>\n",
       "      <td>0.96567</td>\n",
       "      <td>0.91875</td>\n",
       "      <td>0.97033</td>\n",
       "      <td>0.96567</td>\n",
       "      <td>1.00000</td>\n",
       "      <td>1.00000</td>\n",
       "    </tr>\n",
       "  </tbody>\n",
       "</table>\n",
       "</div>"
      ],
      "text/plain": [
       "                     matematik_notu  okuma_notu  yazma_notu  normalized_mat  \\\n",
       "matematik_notu              1.00000     0.81758     0.80264         1.00000   \n",
       "okuma_notu                  0.81758     1.00000     0.95460         0.81758   \n",
       "yazma_notu                  0.80264     0.95460     1.00000         0.80264   \n",
       "normalized_mat              1.00000     0.81758     0.80264         1.00000   \n",
       "normalized_okuma            0.81758     1.00000     0.95460         0.81758   \n",
       "normalized_yazma            0.80264     0.95460     1.00000         0.80264   \n",
       "not_ortalamasi              0.91875     0.97033     0.96567         0.91875   \n",
       "norm_not_ortalamasi         0.91875     0.97033     0.96567         0.91875   \n",
       "\n",
       "                     normalized_okuma  normalized_yazma  not_ortalamasi  \\\n",
       "matematik_notu                0.81758           0.80264         0.91875   \n",
       "okuma_notu                    1.00000           0.95460         0.97033   \n",
       "yazma_notu                    0.95460           1.00000         0.96567   \n",
       "normalized_mat                0.81758           0.80264         0.91875   \n",
       "normalized_okuma              1.00000           0.95460         0.97033   \n",
       "normalized_yazma              0.95460           1.00000         0.96567   \n",
       "not_ortalamasi                0.97033           0.96567         1.00000   \n",
       "norm_not_ortalamasi           0.97033           0.96567         1.00000   \n",
       "\n",
       "                     norm_not_ortalamasi  \n",
       "matematik_notu                   0.91875  \n",
       "okuma_notu                       0.97033  \n",
       "yazma_notu                       0.96567  \n",
       "normalized_mat                   0.91875  \n",
       "normalized_okuma                 0.97033  \n",
       "normalized_yazma                 0.96567  \n",
       "not_ortalamasi                   1.00000  \n",
       "norm_not_ortalamasi              1.00000  "
      ]
     },
     "execution_count": 37,
     "metadata": {},
     "output_type": "execute_result"
    }
   ],
   "source": [
    "df.corr()"
   ]
  },
  {
   "cell_type": "code",
   "execution_count": 41,
   "metadata": {},
   "outputs": [
    {
     "name": "stdout",
     "output_type": "stream",
     "text": [
      "Ttest_indResult(statistic=-4.169913529142, pvalue=3.311973638243664e-05)\n",
      "Ttest_indResult(statistic=-8.390944443482592, pvalue=1.633780203592351e-16)\n",
      "Ttest_indResult(statistic=-9.575113051511476, pvalue=7.736791812495384e-21)\n"
     ]
    }
   ],
   "source": [
    "ttest_cinsiyet = stats.ttest_ind(df[df['cinsiyet'] == 'male']['not_ortalamasi'],\n",
    "                                df[df['cinsiyet'] == 'female']['not_ortalamasi'])\n",
    "ttest_hazirlik = stats.ttest_ind(df[df['hazirlik_kursu'] == 'none']['not_ortalamasi'],\n",
    "                                df[df['hazirlik_kursu'] == 'completed']['not_ortalamasi'])\n",
    "ttest_yemek = stats.ttest_ind(df[df['ogle_yemegi'] == 'free/reduced']['not_ortalamasi'],\n",
    "                                df[df['ogle_yemegi'] == 'standard']['not_ortalamasi'])\n",
    "\n",
    "print(ttest_cinsiyet)\n",
    "print(ttest_hazirlik)\n",
    "print(ttest_yemek)"
   ]
  },
  {
   "cell_type": "code",
   "execution_count": 44,
   "metadata": {},
   "outputs": [
    {
     "name": "stdout",
     "output_type": "stream",
     "text": [
      "not_ortalamasi için karşılaştırma"
     ]
    },
    {
     "data": {
      "text/html": [
       "<div>\n",
       "<style scoped>\n",
       "    .dataframe tbody tr th:only-of-type {\n",
       "        vertical-align: middle;\n",
       "    }\n",
       "\n",
       "    .dataframe tbody tr th {\n",
       "        vertical-align: top;\n",
       "    }\n",
       "\n",
       "    .dataframe thead th {\n",
       "        text-align: right;\n",
       "    }\n",
       "</style>\n",
       "<table border=\"1\" class=\"dataframe\">\n",
       "  <thead>\n",
       "    <tr style=\"text-align: right;\">\n",
       "      <th></th>\n",
       "      <th>grup_1</th>\n",
       "      <th>grup_2</th>\n",
       "      <th>istatistik</th>\n",
       "      <th>p_degeri</th>\n",
       "    </tr>\n",
       "  </thead>\n",
       "  <tbody>\n",
       "    <tr>\n",
       "      <th>0</th>\n",
       "      <td>group B</td>\n",
       "      <td>group C</td>\n",
       "      <td>-1.278246741583154</td>\n",
       "      <td>0.201747312277340</td>\n",
       "    </tr>\n",
       "    <tr>\n",
       "      <th>1</th>\n",
       "      <td>group B</td>\n",
       "      <td>group A</td>\n",
       "      <td>1.316504366963353</td>\n",
       "      <td>0.189093058950944</td>\n",
       "    </tr>\n",
       "    <tr>\n",
       "      <th>2</th>\n",
       "      <td>group B</td>\n",
       "      <td>group D</td>\n",
       "      <td>-2.803108399207725</td>\n",
       "      <td>0.005279949204375</td>\n",
       "    </tr>\n",
       "    <tr>\n",
       "      <th>3</th>\n",
       "      <td>group B</td>\n",
       "      <td>group E</td>\n",
       "      <td>-4.460378072613960</td>\n",
       "      <td>0.000011254806794</td>\n",
       "    </tr>\n",
       "    <tr>\n",
       "      <th>4</th>\n",
       "      <td>group C</td>\n",
       "      <td>group A</td>\n",
       "      <td>2.466593204095108</td>\n",
       "      <td>0.014052604831601</td>\n",
       "    </tr>\n",
       "    <tr>\n",
       "      <th>5</th>\n",
       "      <td>group C</td>\n",
       "      <td>group D</td>\n",
       "      <td>-1.806357695360095</td>\n",
       "      <td>0.071381586738136</td>\n",
       "    </tr>\n",
       "    <tr>\n",
       "      <th>6</th>\n",
       "      <td>group C</td>\n",
       "      <td>group E</td>\n",
       "      <td>-3.935868946604548</td>\n",
       "      <td>0.000095801993351</td>\n",
       "    </tr>\n",
       "    <tr>\n",
       "      <th>7</th>\n",
       "      <td>group A</td>\n",
       "      <td>group D</td>\n",
       "      <td>-3.717941592338664</td>\n",
       "      <td>0.000233904167488</td>\n",
       "    </tr>\n",
       "    <tr>\n",
       "      <th>8</th>\n",
       "      <td>group A</td>\n",
       "      <td>group E</td>\n",
       "      <td>-4.958668289961606</td>\n",
       "      <td>0.000001389791047</td>\n",
       "    </tr>\n",
       "    <tr>\n",
       "      <th>9</th>\n",
       "      <td>group D</td>\n",
       "      <td>group E</td>\n",
       "      <td>-2.487048058580620</td>\n",
       "      <td>0.013287580176112</td>\n",
       "    </tr>\n",
       "  </tbody>\n",
       "</table>\n",
       "</div>"
      ],
      "text/plain": [
       "    grup_1   grup_2         istatistik          p_degeri\n",
       "0  group B  group C -1.278246741583154 0.201747312277340\n",
       "1  group B  group A  1.316504366963353 0.189093058950944\n",
       "2  group B  group D -2.803108399207725 0.005279949204375\n",
       "3  group B  group E -4.460378072613960 0.000011254806794\n",
       "4  group C  group A  2.466593204095108 0.014052604831601\n",
       "5  group C  group D -1.806357695360095 0.071381586738136\n",
       "6  group C  group E -3.935868946604548 0.000095801993351\n",
       "7  group A  group D -3.717941592338664 0.000233904167488\n",
       "8  group A  group E -4.958668289961606 0.000001389791047\n",
       "9  group D  group E -2.487048058580620 0.013287580176112"
      ]
     },
     "metadata": {},
     "output_type": "display_data"
    }
   ],
   "source": [
    "koken = df[\"koken\"].unique()\n",
    "grup_df = df.groupby(\"koken\")\n",
    "pd.options.display.float_format = '{:.15f}'.format\n",
    "for var in [\"not_ortalamasi\"]:\n",
    "    karsilastirma = pd.DataFrame(columns=['grup_1', 'grup_2','istatistik', 'p_degeri'])\n",
    "    print(\"{} için karşılaştırma\".format(var),end='')\n",
    "    for i in range(0, len(koken)):\n",
    "        for j in range(i+1, len(koken)):\n",
    "            ttest = stats.ttest_ind(df[df[\"koken\"]==koken[i]][var], \n",
    "                                df[df[\"koken\"]==koken[j]][var])\n",
    "            grup_1 = koken[i]\n",
    "            grup_2 = koken[j]\n",
    "            istatistik = ttest[0]\n",
    "            p_degeri = ttest[1]\n",
    "            \n",
    "            karsilastirma = karsilastirma.append({\"grup_1\" : grup_1 ,\n",
    "                                                  \"grup_2\" : grup_2 ,\n",
    "                                                  \"istatistik\": istatistik , \n",
    "                                                  \"p_degeri\" : p_degeri}, ignore_index=True)\n",
    "    display(karsilastirma)"
   ]
  },
  {
   "cell_type": "markdown",
   "metadata": {},
   "source": [
    "Cinsiyet, hazırlık kursu ve öğle yemeği değerleri not ortalaması üzerinde etkilidir. Dolayısıyla veri kümesinde tutulmalıdır. Ancak kökenlerde not ortalamasıyla direk bir ilişkisi bulunmamaktadır."
   ]
  },
  {
   "cell_type": "code",
   "execution_count": null,
   "metadata": {},
   "outputs": [],
   "source": []
  }
 ],
 "metadata": {
  "kernelspec": {
   "display_name": "Python 3",
   "language": "python",
   "name": "python3"
  },
  "language_info": {
   "codemirror_mode": {
    "name": "ipython",
    "version": 3
   },
   "file_extension": ".py",
   "mimetype": "text/x-python",
   "name": "python",
   "nbconvert_exporter": "python",
   "pygments_lexer": "ipython3",
   "version": "3.7.1"
  }
 },
 "nbformat": 4,
 "nbformat_minor": 2
}
