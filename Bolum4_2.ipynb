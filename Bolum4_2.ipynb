{
 "cells": [
  {
   "cell_type": "markdown",
   "metadata": {},
   "source": [
    "Rank değişkenini kategorik olarak değerlendirmenin avantaj ve dezavantajlarını göz önünde bulundurun. Argümanlarınızı mentorunuzla tartışın.\n",
    "\n"
   ]
  },
  {
   "cell_type": "markdown",
   "metadata": {},
   "source": [
    "Rank değişkenini kategorik olarak değerlendiririz. Sürekli olarak değerlendirmememizin sebebi, \n",
    "sıralama bilgisinin sayısal olarak aynı sıradaki izlenme sayısı gibi sürekli değişkenler ile arasında\n",
    "sağlıklı bir ilişki olmamasıdır."
   ]
  },
  {
   "cell_type": "markdown",
   "metadata": {},
   "source": [
    "Aşağıdaki değişkenlerin türlerini belirleyin:\n",
    "\n",
    "Yaş : Sürekli Oran Değişken\n",
    "Maaş : Sürekli Oran Değişken\n",
    "Gelir : Sürekli Oran Değişken\n",
    "Müşteri türü : Kategorik Nominal Değişken\n",
    "Hisse senedi fiyatı : Sürekli Oran Değişken\n",
    "\n"
   ]
  },
  {
   "cell_type": "code",
   "execution_count": null,
   "metadata": {},
   "outputs": [],
   "source": []
  }
 ],
 "metadata": {
  "kernelspec": {
   "display_name": "Python 3",
   "language": "python",
   "name": "python3"
  },
  "language_info": {
   "codemirror_mode": {
    "name": "ipython",
    "version": 3
   },
   "file_extension": ".py",
   "mimetype": "text/x-python",
   "name": "python",
   "nbconvert_exporter": "python",
   "pygments_lexer": "ipython3",
   "version": "3.7.1"
  }
 },
 "nbformat": 4,
 "nbformat_minor": 2
}
