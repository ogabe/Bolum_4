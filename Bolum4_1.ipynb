{
 "cells": [
  {
   "cell_type": "code",
   "execution_count": 1,
   "metadata": {},
   "outputs": [],
   "source": [
    "#Keşifsel Veri Analizinin amacı nedir?"
   ]
  },
  {
   "cell_type": "markdown",
   "metadata": {},
   "source": [
    "Keşifsel veri analizinin amacı veriyi keşfetme, anlama, temizleme, kullanılabilir hale getirme ve faydalı özlelliklerin oluşturulması sürecinin bütünüdür."
   ]
  },
  {
   "cell_type": "code",
   "execution_count": 3,
   "metadata": {},
   "outputs": [],
   "source": [
    "#Bir e-ticaret şirketinin ürünlerine ait müşteri yorumlarını içeren bir veri kümesi üzerinde çalıştığınızı farz edin. Şirketin web sitesi aracılığıyla toplanan müşteri yorumları içeriğinin olumlu ya da olumsuz olmasına göre 1 ila 5 arasında derecelendirilmiştir.\n",
    "\n",
    "#a. Bu ham veride ne tür problemlerle karşılaşmayı beklersiniz?"
   ]
  },
  {
   "cell_type": "markdown",
   "metadata": {},
   "source": [
    "1. Müşterinin ürünü kullanmadan oylaması,\n",
    "2. Ürün haricinde kargodan kaynaklı sorunların müşterinin görüşünü olumsuz etkilemesi,\n",
    "3. Müşterinin anlık durumuna göre önemsemeden oylama yapmış olma ihtimalleri."
   ]
  },
  {
   "cell_type": "code",
   "execution_count": 5,
   "metadata": {},
   "outputs": [],
   "source": [
    "# b. Göreviniz müşterilerin yorumlarının olumlu yada olumsuz olduğunu ortaya çıkaran özellikleri \n",
    "# belirlemek olsaydı nasıl bir yaplaşımda bulunur ve bunun için hangi metodları kullanırdınız?"
   ]
  },
  {
   "cell_type": "markdown",
   "metadata": {},
   "source": [
    "1. Öncelikle oylamada puanları çok iyi, iyi, orta, kötü, çok kötü şeklinde ayırırdım.\n",
    "2. Müşterilerin daha önce alışveriş yapıp yapmadığını bulurdum.\n",
    "3. Müşterileri yaş, cinsiyet açısından sınıflandırırdım.\n",
    "4. Olumsuz puanlamaların sebep kategorilerini çıkarırdım."
   ]
  },
  {
   "cell_type": "code",
   "execution_count": 6,
   "metadata": {},
   "outputs": [],
   "source": [
    "# c. Ham veriden çıkarılabilecek yararlı özelliklerin neler olabilir? \n",
    "# Bu verilere nasıl ulaşılabilirsiniz ve bunların faydalı olup olmayacağını nasıl anlayabilirsiniz?"
   ]
  },
  {
   "cell_type": "markdown",
   "metadata": {},
   "source": [
    "1. Öncelikle müşterileri yaş, cinsiyet, meslek, eğitim gibi konularda kategorilendirip eğilimlerini analiz etmeye çalışırdım.\n",
    "2. Bu eğilimlere göre dönemsel olarak uygulanması gereken satış politikalarını çıkarmaya çalışırdım.\n"
   ]
  }
 ],
 "metadata": {
  "kernelspec": {
   "display_name": "Python 3",
   "language": "python",
   "name": "python3"
  },
  "language_info": {
   "codemirror_mode": {
    "name": "ipython",
    "version": 3
   },
   "file_extension": ".py",
   "mimetype": "text/x-python",
   "name": "python",
   "nbconvert_exporter": "python",
   "pygments_lexer": "ipython3",
   "version": "3.7.1"
  }
 },
 "nbformat": 4,
 "nbformat_minor": 2
}
